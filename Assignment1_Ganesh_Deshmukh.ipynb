{
 "cells": [
  {
   "cell_type": "markdown",
   "id": "85dd9263",
   "metadata": {},
   "source": [
    "## Question 1\n",
    "Values are - *,'hello',-87.8,6\n",
    "expressions are - / , +"
   ]
  },
  {
   "cell_type": "code",
   "execution_count": null,
   "id": "b258863b",
   "metadata": {},
   "outputs": [],
   "source": []
  },
  {
   "cell_type": "markdown",
   "id": "398b43dd",
   "metadata": {},
   "source": [
    "## Question2 Difference between string and variable\n",
    "variables holds values which may be integer,float or string. string is one data type"
   ]
  },
  {
   "cell_type": "markdown",
   "id": "de08c971",
   "metadata": {},
   "source": [
    "## Question 3 -data types\n",
    "1. List\n",
    "list is mutable data type which holds any type of data like int, char string etc.\n",
    "e.g l=[2,3,'trtrt']\n",
    "tuple is immutable data type which holds any type of data like int, char string etc\n",
    "e.g t=(3,4,'ggsfg')\n",
    "dictionary is collection of key and values.\n",
    "e.g.d={'a':[2,3],4:'sdfsdg'}"
   ]
  },
  {
   "cell_type": "markdown",
   "id": "76c5cce6",
   "metadata": {},
   "source": [
    "## Question 4\n",
    "expression is combination of operands and operators which yields value.\n",
    "e.g. 2+3"
   ]
  },
  {
   "cell_type": "markdown",
   "id": "97686164",
   "metadata": {},
   "source": [
    "## Question 5\n",
    "after evaluating expression yields a value which will be assigned to variable which forms statement.\n",
    "statement= expression"
   ]
  },
  {
   "cell_type": "code",
   "execution_count": 1,
   "id": "2614fd90",
   "metadata": {},
   "outputs": [
    {
     "data": {
      "text/plain": [
       "23"
      ]
     },
     "execution_count": 1,
     "metadata": {},
     "output_type": "execute_result"
    }
   ],
   "source": [
    "## Question 6\n",
    "bacon=22\n",
    "bacon+1"
   ]
  },
  {
   "cell_type": "code",
   "execution_count": 2,
   "id": "df5341f4",
   "metadata": {},
   "outputs": [
    {
     "data": {
      "text/plain": [
       "'spamspamspam'"
      ]
     },
     "execution_count": 2,
     "metadata": {},
     "output_type": "execute_result"
    }
   ],
   "source": [
    "## Question 7\n",
    "'spam'+'spamspam'\n"
   ]
  },
  {
   "cell_type": "code",
   "execution_count": 3,
   "id": "fc94498e",
   "metadata": {},
   "outputs": [
    {
     "data": {
      "text/plain": [
       "'spamspamspam'"
      ]
     },
     "execution_count": 3,
     "metadata": {},
     "output_type": "execute_result"
    }
   ],
   "source": [
    "'spam'*3"
   ]
  },
  {
   "cell_type": "code",
   "execution_count": null,
   "id": "a8ef6820",
   "metadata": {},
   "outputs": [],
   "source": [
    "## Question 8\n",
    "numbers cant be used as variable name."
   ]
  },
  {
   "cell_type": "code",
   "execution_count": 4,
   "id": "704ae673",
   "metadata": {},
   "outputs": [
    {
     "data": {
      "text/plain": [
       "23"
      ]
     },
     "execution_count": 4,
     "metadata": {},
     "output_type": "execute_result"
    }
   ],
   "source": [
    "## Question 9\n",
    "value=23\n",
    "int(value)\n"
   ]
  },
  {
   "cell_type": "code",
   "execution_count": 5,
   "id": "8fbd26bd",
   "metadata": {},
   "outputs": [
    {
     "data": {
      "text/plain": [
       "23.0"
      ]
     },
     "execution_count": 5,
     "metadata": {},
     "output_type": "execute_result"
    }
   ],
   "source": [
    "float(value)"
   ]
  },
  {
   "cell_type": "code",
   "execution_count": 6,
   "id": "becb5a09",
   "metadata": {},
   "outputs": [
    {
     "data": {
      "text/plain": [
       "'23'"
      ]
     },
     "execution_count": 6,
     "metadata": {},
     "output_type": "execute_result"
    }
   ],
   "source": [
    "str(value)"
   ]
  },
  {
   "cell_type": "code",
   "execution_count": 7,
   "id": "ff6cac29",
   "metadata": {},
   "outputs": [
    {
     "ename": "TypeError",
     "evalue": "can only concatenate str (not \"int\") to str",
     "output_type": "error",
     "traceback": [
      "\u001b[1;31m---------------------------------------------------------------------------\u001b[0m",
      "\u001b[1;31mTypeError\u001b[0m                                 Traceback (most recent call last)",
      "\u001b[1;32m~\\AppData\\Local\\Temp/ipykernel_5040/2599782155.py\u001b[0m in \u001b[0;36m<module>\u001b[1;34m\u001b[0m\n\u001b[0;32m      1\u001b[0m \u001b[1;31m## Question 10\u001b[0m\u001b[1;33m\u001b[0m\u001b[1;33m\u001b[0m\u001b[0m\n\u001b[1;32m----> 2\u001b[1;33m \u001b[1;34m'i have eaten'\u001b[0m\u001b[1;33m+\u001b[0m \u001b[1;36m99\u001b[0m \u001b[1;33m+\u001b[0m \u001b[1;34m'burritos'\u001b[0m\u001b[1;33m\u001b[0m\u001b[1;33m\u001b[0m\u001b[0m\n\u001b[0m",
      "\u001b[1;31mTypeError\u001b[0m: can only concatenate str (not \"int\") to str"
     ]
    }
   ],
   "source": [
    "## Question 10\n",
    "'i have eaten'+ 99 + 'burritos'"
   ]
  },
  {
   "cell_type": "code",
   "execution_count": 10,
   "id": "e9620c3c",
   "metadata": {},
   "outputs": [
    {
     "data": {
      "text/plain": [
       "'i have eaten 99 burritos'"
      ]
     },
     "execution_count": 10,
     "metadata": {},
     "output_type": "execute_result"
    }
   ],
   "source": [
    "'i have eaten'+ ' '+ str(99) + ' ' + 'burritos'"
   ]
  },
  {
   "cell_type": "code",
   "execution_count": null,
   "id": "411fbbdc",
   "metadata": {},
   "outputs": [],
   "source": []
  }
 ],
 "metadata": {
  "kernelspec": {
   "display_name": "Python 3 (ipykernel)",
   "language": "python",
   "name": "python3"
  },
  "language_info": {
   "codemirror_mode": {
    "name": "ipython",
    "version": 3
   },
   "file_extension": ".py",
   "mimetype": "text/x-python",
   "name": "python",
   "nbconvert_exporter": "python",
   "pygments_lexer": "ipython3",
   "version": "3.9.7"
  }
 },
 "nbformat": 4,
 "nbformat_minor": 5
}
