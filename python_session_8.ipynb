{
 "cells": [
  {
   "cell_type": "code",
   "execution_count": 1,
   "id": "9479f209",
   "metadata": {},
   "outputs": [
    {
     "data": {
      "text/plain": [
       "26"
      ]
     },
     "execution_count": 1,
     "metadata": {},
     "output_type": "execute_result"
    }
   ],
   "source": [
    "s='this is basic python class'\n",
    "len(s)"
   ]
  },
  {
   "cell_type": "code",
   "execution_count": 2,
   "id": "b7f53302",
   "metadata": {},
   "outputs": [
    {
     "name": "stdout",
     "output_type": "stream",
     "text": [
      "26\n"
     ]
    }
   ],
   "source": [
    "count=0\n",
    "for i in s:\n",
    "    count+=1\n",
    "print(count)\n",
    "    "
   ]
  },
  {
   "cell_type": "code",
   "execution_count": 5,
   "id": "98fb13fc",
   "metadata": {},
   "outputs": [
    {
     "name": "stdout",
     "output_type": "stream",
     "text": [
      "s\n",
      "s\n",
      "a\n",
      "l\n",
      "c\n",
      " \n",
      "n\n",
      "o\n",
      "h\n",
      "t\n",
      "y\n",
      "p\n",
      " \n",
      "c\n",
      "i\n",
      "s\n",
      "a\n",
      "b\n",
      " \n",
      "s\n",
      "i\n",
      " \n",
      "s\n",
      "i\n",
      "h\n",
      "t\n"
     ]
    }
   ],
   "source": [
    "#reverse string\n",
    "for i in range(len(s)-1,-1,-1):\n",
    "    print(s[i])"
   ]
  },
  {
   "cell_type": "code",
   "execution_count": 7,
   "id": "00a7964d",
   "metadata": {},
   "outputs": [
    {
     "name": "stdout",
     "output_type": "stream",
     "text": [
      "ssalc nohtyp cisab si siht"
     ]
    }
   ],
   "source": [
    "i=len(s)-1\n",
    "while i>=0 :\n",
    "    print(s[i],end='')\n",
    "    i=i-1"
   ]
  },
  {
   "cell_type": "code",
   "execution_count": null,
   "id": "026921eb",
   "metadata": {},
   "outputs": [],
   "source": []
  },
  {
   "cell_type": "code",
   "execution_count": 9,
   "id": "9c5988a9",
   "metadata": {},
   "outputs": [
    {
     "name": "stdout",
     "output_type": "stream",
     "text": [
      "i is vowel\n",
      "n is not vowel\n",
      "e is vowel\n",
      "u is vowel\n",
      "r is not vowel\n",
      "o is vowel\n",
      "n is not vowel\n"
     ]
    }
   ],
   "source": [
    "#chk given chrin string is vowel or not\n",
    "s='ineuron'\n",
    "v='AaEeIiOoUu'\n",
    "for i in s:\n",
    "    if i in v:\n",
    "        print(i,'is vowel')\n",
    "    else:\n",
    "        print (i,'is not vowel')"
   ]
  },
  {
   "cell_type": "code",
   "execution_count": 10,
   "id": "94b7eafe",
   "metadata": {},
   "outputs": [
    {
     "data": {
      "text/plain": [
       "True"
      ]
     },
     "execution_count": 10,
     "metadata": {},
     "output_type": "execute_result"
    }
   ],
   "source": [
    "'s' in 'sudh'"
   ]
  },
  {
   "cell_type": "code",
   "execution_count": 11,
   "id": "08cd4583",
   "metadata": {},
   "outputs": [
    {
     "data": {
      "text/plain": [
       "False"
      ]
     },
     "execution_count": 11,
     "metadata": {},
     "output_type": "execute_result"
    }
   ],
   "source": [
    "'t'in 'sudh'"
   ]
  },
  {
   "cell_type": "code",
   "execution_count": 14,
   "id": "526f224a",
   "metadata": {},
   "outputs": [
    {
     "name": "stdout",
     "output_type": "stream",
     "text": [
      "abc\n",
      "not palindrome\n"
     ]
    }
   ],
   "source": [
    "# chkstring is palindrome or not\n",
    "s=input()\n",
    "v=s[::-1]\n",
    "if s==v:\n",
    "    print('palindrome')\n",
    "else:\n",
    "    print('not palindrome')"
   ]
  },
  {
   "cell_type": "code",
   "execution_count": 1,
   "id": "d34d6c2a",
   "metadata": {},
   "outputs": [],
   "source": [
    "d1={'ineuron': {'a':14,'b':13}, 'course': { 'd':3,'c':66}}\n"
   ]
  },
  {
   "cell_type": "code",
   "execution_count": 3,
   "id": "6d99ec46",
   "metadata": {},
   "outputs": [
    {
     "name": "stdout",
     "output_type": "stream",
     "text": [
      "14\n",
      "66\n"
     ]
    }
   ],
   "source": [
    "lst1=[]\n",
    "lst2=[]\n",
    "for i in d1.values():\n",
    "    for j in i.values():\n",
    "        lst1.append(j)\n",
    "    print(max(lst1))"
   ]
  },
  {
   "cell_type": "code",
   "execution_count": 5,
   "id": "90b93742",
   "metadata": {},
   "outputs": [
    {
     "name": "stdout",
     "output_type": "stream",
     "text": [
      "14\n",
      "66\n"
     ]
    }
   ],
   "source": [
    "for i in d1.values():\n",
    "    print(max(i.values()))"
   ]
  },
  {
   "cell_type": "code",
   "execution_count": 7,
   "id": "2212e760",
   "metadata": {},
   "outputs": [],
   "source": [
    "d2={'ineuron': {'a':14,'b':13}, 'course': { 'd':3,'c':66},'g':34,'h':[45,6,7,8,9],'i':(2,3,4),'k':'sudh'}\n"
   ]
  },
  {
   "cell_type": "code",
   "execution_count": 10,
   "id": "e221d14d",
   "metadata": {},
   "outputs": [
    {
     "ename": "AttributeError",
     "evalue": "'int' object has no attribute 'values'",
     "output_type": "error",
     "traceback": [
      "\u001b[1;31m---------------------------------------------------------------------------\u001b[0m",
      "\u001b[1;31mAttributeError\u001b[0m                            Traceback (most recent call last)",
      "\u001b[1;32m<ipython-input-10-d5d63fc91f36>\u001b[0m in \u001b[0;36m<module>\u001b[1;34m\u001b[0m\n\u001b[0;32m      1\u001b[0m \u001b[0mlst2\u001b[0m\u001b[1;33m=\u001b[0m\u001b[1;33m[\u001b[0m\u001b[1;33m]\u001b[0m\u001b[1;33m\u001b[0m\u001b[1;33m\u001b[0m\u001b[0m\n\u001b[0;32m      2\u001b[0m \u001b[1;32mfor\u001b[0m \u001b[0mi\u001b[0m \u001b[1;32min\u001b[0m \u001b[0md2\u001b[0m\u001b[1;33m.\u001b[0m\u001b[0mvalues\u001b[0m\u001b[1;33m(\u001b[0m\u001b[1;33m)\u001b[0m\u001b[1;33m:\u001b[0m\u001b[1;33m\u001b[0m\u001b[1;33m\u001b[0m\u001b[0m\n\u001b[1;32m----> 3\u001b[1;33m     \u001b[1;32mfor\u001b[0m \u001b[0mj\u001b[0m \u001b[1;32min\u001b[0m \u001b[0mi\u001b[0m\u001b[1;33m.\u001b[0m\u001b[0mvalues\u001b[0m\u001b[1;33m(\u001b[0m\u001b[1;33m)\u001b[0m\u001b[1;33m:\u001b[0m\u001b[1;33m\u001b[0m\u001b[1;33m\u001b[0m\u001b[0m\n\u001b[0m\u001b[0;32m      4\u001b[0m         \u001b[1;32mif\u001b[0m \u001b[0mj\u001b[0m\u001b[1;33m==\u001b[0m \u001b[0mint\u001b[0m\u001b[1;33m:\u001b[0m\u001b[1;33m\u001b[0m\u001b[1;33m\u001b[0m\u001b[0m\n\u001b[0;32m      5\u001b[0m             \u001b[0mlst2\u001b[0m\u001b[1;33m.\u001b[0m\u001b[0mappend\u001b[0m\u001b[1;33m(\u001b[0m\u001b[0mj\u001b[0m\u001b[1;33m)\u001b[0m\u001b[1;33m\u001b[0m\u001b[1;33m\u001b[0m\u001b[0m\n",
      "\u001b[1;31mAttributeError\u001b[0m: 'int' object has no attribute 'values'"
     ]
    }
   ],
   "source": [
    "lst2=[]\n",
    "for i in d2.values():\n",
    "    for j in i.values():\n",
    "        if type(j)== int:\n",
    "            lst2.append(j)\n",
    "print(max(lst2))"
   ]
  },
  {
   "cell_type": "code",
   "execution_count": null,
   "id": "cb6d0455",
   "metadata": {},
   "outputs": [],
   "source": [
    "d2={'ineuron': {'a':14,'b':13}, 'course': { 'd':3,'c':66},'g':34,'h':[45,6,7,8,9],'i':(2,3,4),'k':'sudh'}\n"
   ]
  },
  {
   "cell_type": "code",
   "execution_count": 13,
   "id": "44069e6b",
   "metadata": {},
   "outputs": [
    {
     "name": "stdout",
     "output_type": "stream",
     "text": [
      "[14, 13, 3, 66, 45, 6, 7, 8, 9, 2, 3, 4]\n",
      "66\n"
     ]
    }
   ],
   "source": [
    "lst3=[]\n",
    "for i in d2.values():\n",
    "    if type(i)!=str and type(i)!=complex:\n",
    "        if type(i)==list or type(i)== tuple or type(i)==set:\n",
    "            lst3.extend(i)\n",
    "        elif type(i)==dict:\n",
    "            for j in i.values():\n",
    "                lst3.append(j)\n",
    "print(lst3)\n",
    "print(max(lst3))\n"
   ]
  },
  {
   "cell_type": "code",
   "execution_count": null,
   "id": "46ebed75",
   "metadata": {},
   "outputs": [],
   "source": []
  }
 ],
 "metadata": {
  "kernelspec": {
   "display_name": "Python 3",
   "language": "python",
   "name": "python3"
  },
  "language_info": {
   "codemirror_mode": {
    "name": "ipython",
    "version": 3
   },
   "file_extension": ".py",
   "mimetype": "text/x-python",
   "name": "python",
   "nbconvert_exporter": "python",
   "pygments_lexer": "ipython3",
   "version": "3.8.8"
  }
 },
 "nbformat": 4,
 "nbformat_minor": 5
}
